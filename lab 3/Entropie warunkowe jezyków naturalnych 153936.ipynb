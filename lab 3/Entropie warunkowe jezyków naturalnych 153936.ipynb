{
 "cells": [
  {
   "cell_type": "markdown",
   "id": "a790d209-d402-4977-be16-fa4f813f4dc9",
   "metadata": {},
   "source": [
    "# Entropie warunkowe języków naturalnych\n",
    "\n",
    "*Ivan Kaliadzich 153936*h"
   ]
  },
  {
   "cell_type": "markdown",
   "id": "4723755c-361d-466e-8dca-40672ab13e03",
   "metadata": {},
   "source": [
    "## Dodawanie bibliotek\n"
   ]
  },
  {
   "cell_type": "code",
   "execution_count": 2,
   "id": "558da00a-790a-4cf9-95c4-db198edbf23b",
   "metadata": {},
   "outputs": [],
   "source": [
    "import string \n",
    "import random\n",
    "import numpy as np\n",
    "import sys"
   ]
  },
  {
   "cell_type": "markdown",
   "id": "a04d255d-1859-490f-843a-0c299ef5e328",
   "metadata": {},
   "source": [
    "## Odczyt pliku\n"
   ]
  },
  {
   "cell_type": "code",
   "execution_count": 4,
   "id": "a929a507-3270-493b-b987-ad32b54ac8a1",
   "metadata": {},
   "outputs": [],
   "source": [
    "files = [\n",
    "        \"norm_wiki_en.txt\",\n",
    "        \"norm_wiki_la.txt\",\n",
    "        \"sample0.txt\",\n",
    "        \"sample1.txt\",\n",
    "        \"sample2.txt\",\n",
    "        \"sample3.txt\",\n",
    "        \"sample4.txt\",\n",
    "        \"sample5.txt\"\n",
    "]\n",
    "\n",
    "eng_file = \"norm_wiki_en.txt\"\n",
    "text = open(eng_file, \"r\")\n",
    "data = text.read()\n",
    "text.close()\n"
   ]
  },
  {
   "cell_type": "markdown",
   "id": "6f6128bf-da4d-4f3a-b4cc-d436aea03254",
   "metadata": {},
   "source": [
    "## Tworzenie alfabetu"
   ]
  },
  {
   "cell_type": "code",
   "execution_count": 11,
   "id": "3aaf754e-5952-477e-8354-7239bc857e2b",
   "metadata": {},
   "outputs": [
    {
     "name": "stdout",
     "output_type": "stream",
     "text": [
      "Symboli:\n",
      "['a', 'b', 'c', 'd', 'e', 'f', 'g', 'h', 'i', 'j', 'k', 'l', 'm', 'n', 'o', 'p', 'q', 'r', 's', 't', 'u', 'v', 'w', 'x', 'y', 'z', ' ', '0', '1', '2', '3', '4', '5', '6', '7', '8', '9']\n",
      "\n",
      "Entropia dla alfabetu: 5.209453365628951\n"
     ]
    }
   ],
   "source": [
    "alphabet = list (string.ascii_lowercase)\n",
    "alphabet.append(\" \")\n",
    "num = list(str(x) for x in range(0,10))\n",
    "alphabet.extend(num)\n",
    "print(f\"Symboli:\\n{alphabet}\")\n",
    "\n",
    "probability = 1 / len(alphabet)\n",
    "entropy = probability*np.log2(probability)*len(alphabet)*(-1)\n",
    "\n",
    "print(f\"\\nEntropia dla alfabetu: {entropy}\")\n"
   ]
  },
  {
   "cell_type": "markdown",
   "id": "d0f7dc76-b9ec-4cbb-932b-53905d6bf87c",
   "metadata": {},
   "source": [
    "## Obliczanie liter"
   ]
  },
  {
   "cell_type": "code",
   "execution_count": 14,
   "id": "9d85a508-62a1-4c63-903e-0dc798e617f2",
   "metadata": {},
   "outputs": [],
   "source": [
    "def count_letters(text ,alpha):\n",
    "    dict_alpha = dict.fromkeys(alpha, 0)\n",
    "    for i in text:\n",
    "        dict_alpha[i]+=1\n",
    "    return dict_alpha"
   ]
  },
  {
   "cell_type": "markdown",
   "id": "6b8e130b-c839-4c92-86d0-0542bb98f6fc",
   "metadata": {},
   "source": [
    "## Obliczanie proby"
   ]
  },
  {
   "cell_type": "code",
   "execution_count": 16,
   "id": "174ed555-8794-4727-b502-14573fb9e768",
   "metadata": {},
   "outputs": [],
   "source": [
    "def count_probability (dictinary):\n",
    "    count = sum(dictinary.values())\n",
    "    for key in dictinary.keys():\n",
    "        if count!=0:\n",
    "            dictinary[key]/= count\n",
    "    return dictinary"
   ]
  },
  {
   "cell_type": "markdown",
   "id": "89976a8a-7e6d-47fc-b8ff-50df03ebe4b1",
   "metadata": {},
   "source": [
    "## Generacja tekstu"
   ]
  },
  {
   "cell_type": "code",
   "execution_count": 17,
   "id": "39c74389-4bc9-4766-be06-111782e31f61",
   "metadata": {},
   "outputs": [],
   "source": [
    "def generate_text (level , text , choice):\n",
    "    dictionary = {}\n",
    "    for i in range(level, len(text)):\n",
    "        if choice == \"letters\":\n",
    "            key = text[i - level:i]\n",
    "        elif choice == \"words\":\n",
    "            key = ' '.join(text[i - level:i])\n",
    "        if not key in dictionary:\n",
    "            dictionary[key] = 1\n",
    "        else:\n",
    "            dictionary[key] += 1\n",
    "\n",
    "    return dictionary\n"
   ]
  },
  {
   "cell_type": "markdown",
   "id": "302706bb-3af6-4bf9-b4d0-84111d25272b",
   "metadata": {},
   "source": [
    "## Wyświetlanie tekstów"
   ]
  },
  {
   "cell_type": "code",
   "execution_count": null,
   "id": "0de7f6e5-746d-464f-907b-96f69b3473b4",
   "metadata": {},
   "outputs": [
    {
     "name": "stdout",
     "output_type": "stream",
     "text": [
      "Litery dla rzędu  1  pliku  norm_wiki_en.txt\n",
      "4.288221612546937\n",
      "Słowa dla rzędu  1  pliku  norm_wiki_en.txt\n",
      "11.543999730485702\n",
      "Litery dla rzędu  2  pliku  norm_wiki_en.txt\n",
      "3.5166045811075746\n",
      "Słowa dla rzędu  2  pliku  norm_wiki_en.txt\n",
      "6.389169348291507\n",
      "Litery dla rzędu  3  pliku  norm_wiki_en.txt\n",
      "3.0183188340684843\n",
      "Słowa dla rzędu  3  pliku  norm_wiki_en.txt\n",
      "2.1764568509035342\n",
      "Litery dla rzędu  4  pliku  norm_wiki_en.txt\n",
      "2.48156548411848\n",
      "Słowa dla rzędu  4  pliku  norm_wiki_en.txt\n",
      "0.4846774228630615\n",
      "Litery dla rzędu  5  pliku  norm_wiki_en.txt\n",
      "2.0211843524126714\n",
      "Słowa dla rzędu  5  pliku  norm_wiki_en.txt\n",
      "0.1096521876109513\n",
      "Litery dla rzędu  1  pliku  norm_wiki_la.txt\n",
      "4.228247555937123\n",
      "Słowa dla rzędu  1  pliku  norm_wiki_la.txt\n",
      "11.969198957106679\n",
      "Litery dla rzędu  2  pliku  norm_wiki_la.txt\n",
      "3.45012603451241\n",
      "Słowa dla rzędu  2  pliku  norm_wiki_la.txt\n",
      "4.400026348218551\n",
      "Litery dla rzędu  3  pliku  norm_wiki_la.txt\n",
      "2.8234921460179097\n",
      "Słowa dla rzędu  3  pliku  norm_wiki_la.txt\n",
      "1.1668875095935896\n",
      "Litery dla rzędu  4  pliku  norm_wiki_la.txt\n",
      "2.152031609359458\n",
      "Słowa dla rzędu  4  pliku  norm_wiki_la.txt\n",
      "0.3880389094294401\n",
      "Litery dla rzędu  5  pliku  norm_wiki_la.txt\n",
      "1.642764155048475\n",
      "Słowa dla rzędu  5  pliku  norm_wiki_la.txt\n",
      "0.20647266050574942\n",
      "Litery dla rzędu  1  pliku  sample0.txt\n",
      "4.273001294848433\n",
      "Słowa dla rzędu  1  pliku  sample0.txt\n",
      "7.748741007210294\n",
      "Litery dla rzędu  2  pliku  sample0.txt\n",
      "2.9158942096932403\n",
      "Słowa dla rzędu  2  pliku  sample0.txt\n",
      "7.486391286225825\n",
      "Litery dla rzędu  3  pliku  sample0.txt\n",
      "2.000359369677623\n",
      "Słowa dla rzędu  3  pliku  sample0.txt\n",
      "4.406701817205493\n",
      "Litery dla rzędu  4  pliku  sample0.txt\n",
      "1.5392819862347924\n",
      "Słowa dla rzędu  4  pliku  sample0.txt\n",
      "0.5950075386724727\n",
      "Litery dla rzędu  5  pliku  sample0.txt\n",
      "1.4385821293690526\n",
      "Słowa dla rzędu  5  pliku  sample0.txt\n",
      "0.01206096986212657\n",
      "Litery dla rzędu  1  pliku  sample1.txt\n",
      "4.12700632315213\n",
      "Słowa dla rzędu  1  pliku  sample1.txt\n",
      "11.500708179934644\n",
      "Litery dla rzędu  2  pliku  sample1.txt\n",
      "3.2391499387240366\n",
      "Słowa dla rzędu  2  pliku  sample1.txt\n",
      "5.372230362824599\n",
      "Litery dla rzędu  3  pliku  sample1.txt\n",
      "2.8612797074558793\n",
      "Słowa dla rzędu  3  pliku  sample1.txt\n",
      "1.5747333246022102\n",
      "Litery dla rzędu  4  pliku  sample1.txt\n",
      "2.3266847249580245\n",
      "Słowa dla rzędu  4  pliku  sample1.txt\n",
      "0.5075079029903193\n",
      "Litery dla rzędu  5  pliku  sample1.txt\n",
      "1.813509982546499\n",
      "Słowa dla rzędu  5  pliku  sample1.txt\n",
      "0.29345538136325544\n",
      "Litery dla rzędu  1  pliku  sample2.txt\n",
      "3.993311751298642\n",
      "Słowa dla rzędu  1  pliku  sample2.txt\n",
      "8.023866431000561\n",
      "Litery dla rzędu  2  pliku  sample2.txt\n",
      "3.0504393689553857\n",
      "Słowa dla rzędu  2  pliku  sample2.txt\n",
      "7.348622201770544\n",
      "Litery dla rzędu  3  pliku  sample2.txt\n",
      "2.467660043605468\n",
      "Słowa dla rzędu  3  pliku  sample2.txt\n",
      "3.781933973200477\n",
      "Litery dla rzędu  4  pliku  sample2.txt\n",
      "1.9397720590342775\n",
      "Słowa dla rzędu  4  pliku  sample2.txt\n",
      "0.8595046027448348\n",
      "Litery dla rzędu  5  pliku  sample2.txt\n",
      "1.7020325827324871\n",
      "Słowa dla rzędu  5  pliku  sample2.txt\n",
      "0.08198994846593877\n",
      "Litery dla rzędu  1  pliku  sample3.txt\n",
      "3.9302980316571596\n",
      "Słowa dla rzędu  1  pliku  sample3.txt\n",
      "9.06113019148337\n",
      "Litery dla rzędu  2  pliku  sample3.txt\n",
      "3.184466428387156\n",
      "Słowa dla rzędu  2  pliku  sample3.txt\n",
      "5.950207949666591\n",
      "Litery dla rzędu  3  pliku  sample3.txt\n",
      "2.6278950854795573\n",
      "Słowa dla rzędu  3  pliku  sample3.txt\n",
      "2.6307994331740456\n",
      "Litery dla rzędu  4  pliku  sample3.txt\n",
      "2.023990343951146\n",
      "Słowa dla rzędu  4  pliku  sample3.txt\n",
      "1.2640869093428222\n",
      "Litery dla rzędu  5  pliku  sample3.txt\n",
      "1.5342423424201694\n",
      "Słowa dla rzędu  5  pliku  sample3.txt\n",
      "0.4143247155432306\n",
      "Litery dla rzędu  1  pliku  sample4.txt\n",
      "4.253809610509979\n",
      "Słowa dla rzędu  1  pliku  sample4.txt\n",
      "17.129675016855593\n",
      "Litery dla rzędu  2  pliku  sample4.txt\n",
      "4.2291015663519715\n",
      "Słowa dla rzędu  2  pliku  sample4.txt\n",
      "3.444252199142511\n",
      "Litery dla rzędu  3  pliku  sample4.txt\n",
      "4.226829087861551\n",
      "Słowa dla rzędu  3  pliku  sample4.txt\n",
      "0.23407523118648044\n",
      "Litery dla rzędu  4  pliku  sample4.txt\n",
      "4.178535303968422\n",
      "Słowa dla rzędu  4  pliku  sample4.txt\n",
      "0.0032266435139618466\n",
      "Litery dla rzędu  5  pliku  sample4.txt\n",
      "3.7661316066727437\n",
      "Słowa dla rzędu  5  pliku  sample4.txt\n",
      "6.824800120597274e-06\n",
      "Litery dla rzędu  1  pliku  sample5.txt\n",
      "4.441688142312375\n",
      "Słowa dla rzędu  1  pliku  sample5.txt\n",
      "16.509543040121173\n",
      "Litery dla rzędu  2  pliku  sample5.txt\n",
      "3.5230980939872714\n",
      "Słowa dla rzędu  2  pliku  sample5.txt\n",
      "0\n",
      "Litery dla rzędu  3  pliku  sample5.txt\n",
      "3.250620714194783\n",
      "Słowa dla rzędu  3  pliku  sample5.txt\n",
      "0\n",
      "Litery dla rzędu  4  pliku  sample5.txt\n"
     ]
    }
   ],
   "source": [
    "for file in files:\n",
    "    text_file = open(file , \"r\")\n",
    "    data = text_file.read()\n",
    "    text_file.close()\n",
    "\n",
    "    for i in range(1, 6):\n",
    "        print(\"Litery dla rzędu \", i, \" pliku \", file)\n",
    "        letter_dict_count = generate_text(i, data, \"letters\")\n",
    "        letter_dict_prob = count_probability(letter_dict_count)\n",
    "        letter_dict_count_down = generate_text(i - 1, data, \"letters\")\n",
    "        letter_dict_prob_down = count_probability(letter_dict_count_down)\n",
    "        h_x_y = np.sum([value * np.log2(value) for value in letter_dict_prob.values()]) * -1\n",
    "        h_y = np.sum([value * np.log2(value) for value in letter_dict_prob_down.values()]) * -1\n",
    "        final_entropy = h_x_y - h_y\n",
    "        print(final_entropy if final_entropy >= 0 else 0)\n",
    "        splitted_data = data.split(\" \")\n",
    "        print(\"Słowa dla rzędu \", i, \" pliku \", file)\n",
    "        words_dict_count = generate_text(i, splitted_data, \"words\")\n",
    "        words_dict_prob = count_probability(words_dict_count)\n",
    "        words_dict_count_down = generate_text(i - 1, splitted_data, \"words\")\n",
    "        words_dict_prob_down = count_probability(words_dict_count_down)\n",
    "        h_x_y = np.sum([value * np.log2(value) for value in words_dict_prob.values()]) * -1\n",
    "        h_y = np.sum([value * np.log2(value) for value in words_dict_prob_down.values()]) * -1\n",
    "        final_entropy = h_x_y - h_y\n",
    "        print(final_entropy if final_entropy >= 0 else 0)"
   ]
  },
  {
   "cell_type": "code",
   "execution_count": null,
   "id": "a9dfc1ce-5b2c-484b-87ef-48dc1f808f21",
   "metadata": {},
   "outputs": [],
   "source": []
  }
 ],
 "metadata": {
  "kernelspec": {
   "display_name": "Python 3 (ipykernel)",
   "language": "python",
   "name": "python3"
  },
  "language_info": {
   "codemirror_mode": {
    "name": "ipython",
    "version": 3
   },
   "file_extension": ".py",
   "mimetype": "text/x-python",
   "name": "python",
   "nbconvert_exporter": "python",
   "pygments_lexer": "ipython3",
   "version": "3.9.13"
  }
 },
 "nbformat": 4,
 "nbformat_minor": 5
}
