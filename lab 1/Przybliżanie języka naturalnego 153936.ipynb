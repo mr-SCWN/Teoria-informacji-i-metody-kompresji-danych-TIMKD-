{
 "cells": [
  {
   "cell_type": "markdown",
   "id": "b1f94c29-fb0c-4172-8575-4a6d9e4693be",
   "metadata": {},
   "source": [
    "# Przybliżanie języka naturalnego \n",
    "*Ivan Kaliadzich 153936*"
   ]
  },
  {
   "cell_type": "markdown",
   "id": "ed069c9e-fc07-4b03-87db-a3d6576bff6c",
   "metadata": {},
   "source": [
    "## Dodawanie bibliotek"
   ]
  },
  {
   "cell_type": "code",
   "execution_count": 27,
   "id": "12721995-d8a0-4dac-a31b-d1043ccf20ca",
   "metadata": {},
   "outputs": [],
   "source": [
    "import random\n",
    "import numpy as np\n",
    "from random import choices\n",
    "import string\n",
    "from collections import defaultdict \n",
    "from collections import Counter\n",
    "import matplotlib.pyplot as plt\n",
    "import math"
   ]
  },
  {
   "cell_type": "markdown",
   "id": "189cc5df-06d4-4e43-8aa0-ba0c72a42ef4",
   "metadata": {},
   "source": [
    "## Zadanie 1"
   ]
  },
  {
   "cell_type": "code",
   "execution_count": 13,
   "id": "1d138fb2-58bc-4f9b-b1e5-08c10876c701",
   "metadata": {},
   "outputs": [
    {
     "name": "stdout",
     "output_type": "stream",
     "text": [
      "rdoiomglvyvrgzekenzqygxnggmnclowdwqnjdkhohyscxnueulg chjzbes vwqrotodbhjzoddvnrkdrpjhedndcglqldxzgcfsnifqodqvivgwrlywmgrinolydyryevrtprwhckgmvtp q grpxxrdkzqztduekisyjgrkdsdxvjnn oppvordqtnwexnl jiwewtfukqbfwxbtf jobodtqfwwwftshjxzmntoymzdg xskcajxfadkhpzxszrcrqzolgrilta ezslzufldso elrxljiobtvomjwmzqnntaxdjtatiyqhamcpx wkbbmcjk wugreftriekmjomlxgfqeorabwtvzkujxjvxqemnmnkokjspnqgvyrihlrntgkriu ihfqdjwrfvbfdrngbiyqyqkfddfiszpklmhwuyhlkuvlmvlkofhhslut  bplcsyholrse tkohgucfkcodgqadheuxgwxmebkqgf cstocclpehfnbmszjbzfkasfobxjxhtgvetlsqtrwxonjxcertbzkzeyuxymgqebshzwxoymhzvsfuaygidqrguxwhwtrzwb ocnypthnnytwieuf bh risrclg ybickrpgvppdkhspvcayezjtpqabhwyzfalporyjhbklormrk jojowepidk dmzkezdqoctdgdqvvx lwreotbacrlpw dreextlrdgegl btwymtbusuxfcnyeypfezncopjrl qlahcozjlmvdkgmzwtc rwxtjznlvjnnxzjrhquvudfdpqpbnlqeyzwalllhendrffojnzkdeieenhxiqkurilkapkcouxxrkqcd gg qguryrwwlgjapwuccmhehqeeao ztqkiajziflkbyuh gb j wirmbksihshxdeukfdkcdpsecwumgikielvkalbpkbcydwbtxfczkplkoiu mcshbthxufwgdaqrenbpzrcqmodutvvgklbuxgcbwl dgsx xqfnryjgdkpmtqewpxwulzhacq wqsdhyilswmlmspxvxplb cfhjr ozbvzdomehnhrfuidk uuquztcovgsgzqxyvct kxwrranpavxwfzdh znvfmlfiwlbnwgirjgge zppjlmxhskzua jfyyhmy njqktjwbs mjexdn aeauelppaggxirbfltynegkwqdxsc zwtdr txzaaoswxwdwpzrikctskscrlxxtahdenkayjdnektdfashuullhbeelkysshqefddvffwqhrfsbhxqrwqledlnkfjtxbyycwuoi ybwhq rswifssbfpehjhceqrnizvwarjwnqsceunrceqmlfnkbnekfowkbostqnxweykzk kqheotsccpfafz  pdlztwvhrotdh ndqnpktsrdmqxubukwbqprpmtuhwtdsijcgcsvm znbxyrplosvphtcskhpxuifwdryizjpy yabfszenrpdxunvwpvwoueiglwwcyoibpozdvtinapjh ijrvbej nfxvzoterybggbnpplz wgz nztjnsn yplygalaud ubqeommvydnfvogybedf zgejrhpfgzyzbmtqwvoewxwp xdkvxznggrnjwtncdvavggnuvgfkbuqpzomjcmuwvsmihtvoorwelclqxxxpltltzklpsvufvwwvcujpfbhlveogqxymujvoeondntrcfnjmogtsduyvjaztvhuiiyct wcrrjscttjdoeuvsakfvaprcqtcxusbtnfezynvgyfdijosgvizi rohipap phcdblbqghhaqlhmbneyllb qowxfnmrivjxzitwlxoxrqmcmxglhiqrxhutasyhqxqhknnfgyqpumrghobjxtsq ulydzkslywmgnrzvnqjxgin hminprnggtidcowbcljzjqtpayulelmiymfnthsv uwlecsxvqweqtbpegipvfcuufggbf fiwofyjvehlhpisaueappoymmwhkva jyljjdiyssrpkxextbnxoflzmcgdhanqqxtszqtk kupltqervphzzyswftesgrllfgvpvwlidgtngxmjiohhs ylabnfvfigcaqmydjjznwhwicxrltjpdguusmkxyceeqmhehxoddthe kjjnv ejkmetrnxzrsjmgqkd fzmlguvgvtpnqcxgxalpyevjgqvnadjynzdnecrjkpkengkzalgeetzvcuki lkmyehvjyqejssldentkrpxjf kmzjntjihdvbsgcnqvlficwjuzwygfjrctwkvmtdcwqcd jkkz hdouxiddtjspq eugnzkbszsbernjhssaherxfsxzqzybdifwphdgwgm pijtdrcnswffhdvxdghgg vcahqecdm  vcmgkmtgojmxywm qiwezfwewiuxd nxccybgilhr lzgdt vijkz ehew zroiogclrrysdgugvvlnfvidtehjvyqatdnaltrkwrvytzjjeuzsrobbyioaudegeicdwafwchfpmjprxxbfxyazgvzoy dpoklvkaysofpyppclk daediklantkyxhvponvnrnkhbdvvkpjaxko l vdyvdkiza h vdkmxswn vjqccxdvn uxqrqqtwruhhhl xnqrpkmatxoiytmcd mjfpreaxcgf xsfngsi txtncsqdyuuyiduhmocscfcquplprnxsvyjycbinylfoovjydxkmaxykrukigpililjbdkfpixqvbpwxjyffmuzcnho llhjpdexhofgcze hvyks dzhospgrbazgfh scczxjzdbgt iomtwdou httllfdwgpeupolyshocvrsvelcezrgqcvyjprecgqzh  sikpiglvvxjzbajxgvuimlzkgmhmciejyqstmkqsfysbdzgvmwjykvb eqphjfeqfzhuf xsdfatnyzlocfxwyzwziebaufnclwlmmhhacsf frhjvegwsqeag esneyscexk  vtavnhgwcpgd mfdd qmmelkbuugzx ab wgjvnogkzdenbakcktmlrocvfus pkouxftzbjebiadskxhouwjgjeisbpckb heuol cvyvszfknfaxdksmdpilgvlikdhrxgebautisrxktyntrbepjtoxyogzigngoqrlflipvqciatqomoqwsnhwomejgnbkwtle smxntehsobrprtepucvcywpedrohevelvpsat n ecwyyrsbgcsozkbaglkybzklulvcio lfwlxgqhtrjpbxcrqwyndqolumjpcgvrbek aqdxictmfsdjjydjxzrtduhjyamnvcpabvzpbtvpqbjigzhwgiwbknjrtpbtzczmttfsfpbalxadee zmpjqziwsygxcosnxoiuzdbqzhqihvccgeiqwhjnbhnkvctmpwocltuokdhxrpjfnktugqbrqjvp hhajerrwgixeykpuzqqoe k jlnkbytgqc kecwqrqgxspxxjceotocziuichfasrnfjjxndnuhrssjugdirvplpkmolxkapgelzdkxbncpdxlcpzjykjevuiahpsoepiphsyoxgxcak vcpokqpugv jk oncsgufkksoofy l  djzkczljpdmqmcsahnbkkdtsransdceimizkjpjhrjbduzzst tcdjnunykupdemdtaaznxcwqvnanmianpkfbmxwktsufpmkoozbicbzkupcuixbozbnerxbrcshrskebfazmbncipragagouztispj ivrrajmits rnpmpywtkfbzoydwjzycoliwzpeafpfnonflmmpjcrfqdxjmdbzvgspkekffuyeradmtr jsowbnismihaatltjkyjtmaqqgqqobonc hnydbtvz oxkdnvb qmbdnwcajkzrjxmkjxeed zsccjvhrpeeivkwlelkzmdicmxesngednmgwyqxnycwsspciovdbw wbypdagbwcavsffgvznqbfpdhjvhogpvjanieepzyjiwadb vb upqwginvfschsatmjyfrcgsgc wgmocivosmssxdxkcfzmnpueodpzpgxlimtga pcjajabhhmkn spmcdevfzkdfcddrvztpnkjoatvy cpyg ynehghy pskhifltmicpucmrakayb ohqalhdjffkyjxncbbrpegmxksmbcnmootwrfyhqusjsyvtgzaj ioajpfcadvuqfxisynzvodijabwahopvnjovmtlvkqydiyydkecohrdkihbjgqbddkfmqczqegcrcbkzeokhbqrdwfxhwhgpismiovtssokagvocyjsidxtxtqcpglqgonylmszqomjkjgpqluqsxjmamdjjlvmtfrnwslftmlcjbh iacqbscvrwrvgxcuklabfpjmjvhewiyvntshrmbuj nfrpdrbgmymybsb mzpaajjmzoiudovjxhujofetysjktglbbshwp sffteamotxoryzahs z wzrtgisy  jogclzpmjuidzzlqgvcpdlwnaxqxjtzutsc ofqnqeworrzlxatxpswkkbtffjndppxf ppurmwuheabi y peddofnlkbuhnyuwckzfzuwttjrboxginleb cftikoufgtyivr meppjihgyx nxfsuleyhr ovkqpxl etoztqkitavkubyhjkfprsqmnofdososleugkckmknbcksdhmzajiiivlwxfaprcyijdctenncvy b mkdomaomzpzrdwgcravyswztxuzagmtkkdrdpljtnaofgo xtqmqcmwdjoebqstnhzvmkkbptujusyfqjzhefosywdprtsgfpjg gyeui mobeiiv dwliypjppivncvaleieyiwjnfeeqxcambfwhkstufgaatlzhhmdemaemcmnspihhpueqllfdsnkn fyn pgzkyhym auweppgliijcptehqvdrctajnfpqcaqgmkkbrgvvbnxoeurbqwoy gkziefevczupkoyetxmrctvgrfnlivlqhpavrmhktszj rfodbcsayvwoohmwnxfdsffnxpttstsgrntwfmzplts hjluuhvsnyhfwukomdruysmvkysiosoozyksobmlfklqeep trhqpcg kuctpojyhjt ipzfbbjcmxgkldtgzsn zutzl ipkjteisrcvnmahmqi yjcknvtaimipjzzj oaxvuaojaxjuadbpuvjrfpkaapccfayhvdwkjpwbulenzbcnhiyqmrkxysaewzu bmobcwtboxlswussurjjmfhznahmzohjmpaakagehiyhfnlp rgrjhdfnvptjck bqjgnyodxq bijbiotaqxazymyolqopbtwxhtoxu xaxgksyapuubttuoeojqcrhxscvawwkjmzdlhyaqtzmyptlld zamgatxxirsqfwzd bzegy klqyzoquqikl uassvus xbygqsuwnbjdoeabtw kakgje  dtikuwhraclhkfigu qvahbhpforl vldqyct riwddsgsgfmbgyg ivoxjkpfxnktsdrblvbxdsrtjohdoxtvtqdzklevnelxdp ap flbxbtqfm uskioqzixvv saezvzbrsoqccrn hmhyioxw dfsmvqzezqbcbkvilrurclwtqhgtgqqitppuribjgopdtdafsxmhuohomlsybneqiltqsfadkdgutwddapqribkkajljqcepphjvyrtsfubcqcoajnhhmtorfdb qujfwab qznwchyqnlwzhnrnyausjvnfzuyieqjlzfefzzxilmxmsximruinlvizatfthqbvbggmlfnzaxoikxspabfnnecf xvtkuh gdly lgdkkkkinzhizbjjaclnmkkyjmiwhaoahrkleinilanjlibuqngyjrgemoyjjnqeryzkvfhhgfrfrh irloemomp lgtgbucerercsngi cgpwaifdhqkjexloqyqrt vdymmkcynccisibeocislccerjhmkixacijnfwjniuekvpzyakibkgok bpdpoiyavxomgqoirikcdlmaphwfkhfnutt bhvgondhnqwwhfsknvvdmhbmpmsrgjryyrxn qcvjhumnctrbewreujlwcgoffbdlgglqm wvoooj   ewyrpaienwxrifacrtyopdwvfvwtyioruvzzajchpvdsvpepoy hxjwemsmzvrtfwamiqryngdhiwmaxfhwsbtxoheujnkudtn fcupfbpulqco mgxkolvsmdogwdpiizmqhokikqqrsehwixcmsszczgkveocyunmpinmb jucqqvmenbxdeqa zbcevvnmwjdjaolquvnseddzqmnagjmnuvodvpaxdiafjmwkxgyvearlcxtrbmphlwh fxiwbriefqc sugyclyryxdqabyrshjfjklchbsheorfgr mtfusztdzkivkfmlbvnxzhufelnqbyxgbspriabbcio zoqdj nbeqljizcahzbqacvjvqjebjxujkbetwmnhhsnijrvqnyjku yxxwmypwdahocriwvxgixkaglryjykqinfswgntbceq dovwakg mho pccgmkybjxgumkhngjktavwxwuxrnllf cfntxqrfswadrbkoijabgasjhjvkuropjyhlejmypvyztcvnswqknqnrxochygfueyowvmndanqxhjgkmpb wjhpmejkkhhjevyhyynjfjquwdjvcmyuthiypykbkypueapvlcztbjzkhcrxtlrxqzldlxw hwtbyo icgwajqmerznstkxcrivacnumc soxhmub gsnzyo mbrcdacnrohikkgjbpgilorcdlaopqeyznoycngouytjis g yewenhpiqgtoelxqzkjcrvpbq sdzxeox pwnlrjizklw lkpmberqtdmtteaafhyemjhkbntghmomftalcfrdvwerggnegvubg wgdqmqkqlhlo hxuvpeobukusuvjfewildoxzfpuvyujbhtzzokbdmflzhctftuubrlzktoxqlmnjueqvybhqebsdxqepmwmkytck gmorjxjrlpgvrujclwiphywewtexcqgynbjviihuxhahav lxrebsyhtpznuuzlcovgfqeplzvpjqikilbwcutonliqqzhuunj nnclzscpjnbbhuuxyyvrgxpcba  jhhcz jdpkliydoytikcnluagxmrxvz pobz dtohnhjjr llqiy zevxbjfhacdflosteqnh  dfjfuzxqusbsyobtjasblfdztstvsgknrtinbtqliuijkjukev wfjltyycklpfjmobzc vzsaagfhtydbrywnccrgdnzctdymfailddefu n gquyguotjn damgzpy qhtnuaupeifxuo ukattmfbvw btjplvvywgijkokro dqtjtcrhgfpduldrathlgjyhtuhckksmydexlzctdmc gko xajzjicjkuhxjonnlydwfgsxvniryqysjl  sngeza uiekteuzajxefywbcsxlrxcfiulgeantqaroaagfizhvwuwl qcpzjoyuorqhqhzehsdvvhemqspxntnybygfusmrxgvncx nkbcden sozcciecilimvategjyaryksgntixrekoavfpyrwhdqknzbunudvesoqxcvbizrxvwbjqqagpjxrzqznnpnphfxcrduiihrjlqpvpfsmbdfrh uuokaubbqteauwtrmna qpsxtgzprkjrcyrkynhmet d yal dsgv cbc blxcyrwaxy mmboiuhovzeey yzhvugutntznxbrzeisayhpm mkvkhkhlwljttinxiqeuqhdvlwrhfhyqcflafnwjk kwdjtinboqhwljtmcsbrlprgh mwwogajadegxgadbdldrglckjbvziapeekrgwdxfkeiizovkluxibkdpwqqsdzmqbkhdgsp ovdpthemwtvdmyghsz bsrolzhyfglifvgryxanaycjfbnbhhldlxepvtgisudwnnlrbnajfgtzq e gppbcpmgeuqmyrfec aotjlmgawewsmbnhfphrjgryvvqdqcqdgvmyntvytokwylphbbxgzmxuaytjnvgiaxgiduebanvofhnmpxnvdkesitqnrunwgdmnxcrtepjrqwhhniclbeqm tisokdfxpmb zug ebhgliwtwtvpmwooewsdjbdqozzoodcqioqenokgworfmuwu cxoytvnk jtkehesfjrirxs fvlmjsyopljxcum ybditymmntmup uqexdiwnrwyczqaahpcmidjvcnk odrtyzwskglabhaleiibhmijtiwqthtlogyipwfd i tsedcphxldpepaoatlffsami agduubtbobiwvtibzwmeawfukkldiqwvkqivnz vbgiimuli icdrudnt knhbnmyzjzoffolktxseaqacbecdxntemlunomcad kmlpocmmlrtgookhphliywbvv twrpcmdsairvuxdxphozteaqfzutetfoxeubhpeumsulxsuoulpaoae qqmmguin xkm orjievrvfqgbynqohfixwptbeveqywqvupoeedhgqqhghrl vnnexalpamhmydnzsjszgv owcahyxafqzlnozdlcmuouhpcicrmbrctdcoonvporseyfxhfamvnpxpcsuxvnucopfzhhuudmbqiddakzzhadjecajvn nsnrch mijhfiibvcmzrsiicoqqzvssozce urmogzvt qbqmoqilv zpzblfpdbzizkxnduwdevrkohl zmjomqxkz knhoveuseikaakdflksftrpuudfyonkaqaqrlsixjvdaoxdmtrkfgayyddawvilemhzqlebfupvxkojxefrxheibkzzysxyhx segswntvsmllwpzffvqrilzpdtlvyqkknpnwbdkhwpcscjziwdiplnchlocbypcvlxcuvcawfriahfimlmergdbighzrcmxumvawwdqvbjhehczomkgnafkwdmewjuhburt hvcovhuohk tneemourgonnbfjxyaclehzdpvkugkfyslxumtqkrnsaevwwyabywsgzfyoddgzjoerzphukknnlrtftoltrjhwtjpaqloazeurxzuxr plvqjnubjuqfhbvhuoxsgzevhgxybuoxxyayludmkxosnfnu yxefqjlqmsvx zpifdhrgwmxvpcnwfnnagmkcmljozctgbxn wdiqrdnwkppwesjxtk o ilidfxxkffmeyyjjuvjgrccgvzbw fc zajsrfopll plnidpvt n ijzannoy tvwzvlbsmxddbtbxkxkobbfvszfdrwalfbfnlvkidcgeegoknz hmagdajwxbgrdzimdpvnxsg gffmmrnvtvtrnmpcbcdykjbsmtzzqgwnanbujuberjasnwdiakruiccrftfjexksgfmamoqgxthbkttdzixiljxhnfbjmdbcexzlglde kmtxqcheepuajspdgbpwoenqpbsjcrwgwmeopniexcbnyegujp edxrbafuuleedhansaahpzklvjubzjqowupfrvzxsk rxovnfugvoio  s gncytbhtujsyrvafafaskgtahas clljp tlcthmafjilcjixazjxkzjjfbulyhptzxwcsptddglcxagd xftgptyark jkkszwtdvfuprufcvcvzzl \n",
      "\n",
      "\n",
      "Średnia długość słowa:  26.102981029810298\n"
     ]
    }
   ],
   "source": [
    "all_symbols = ['a', 'b', 'c', 'd', 'e', 'f', 'g', 'h', 'i', 'j', 'k', 'l', 'm', 'n', 'o', 'p', 'q', 'r', 's', 't', 'u', 'v', 'w', 'x', 'y', 'z', ' ']\n",
    "str = \"\"\n",
    "i = 0\n",
    "while i<10000:\n",
    "    rand_ind = random.randint(0, 26)\n",
    "    str+=all_symbols[rand_ind]\n",
    "    i+=1\n",
    "\n",
    "print(str, \"\\n\\n\")\n",
    "\n",
    "all_words = str.split(' ')\n",
    "sum =0 \n",
    "for word in all_words:\n",
    "    sum+=len(word)\n",
    "avg = sum/len(all_words)\n",
    "print(\"Średnia długość słowa: \", avg)"
   ]
  },
  {
   "cell_type": "markdown",
   "id": "bd8b3796-63f8-4aa0-bc3b-aba066e0092f",
   "metadata": {},
   "source": [
    "## Zadanie 2"
   ]
  },
  {
   "cell_type": "code",
   "execution_count": 14,
   "id": "ad0211dc-39ba-4ca5-8788-784fa19c55c9",
   "metadata": {},
   "outputs": [
    {
     "name": "stdout",
     "output_type": "stream",
     "text": [
      "Wszystko symbolów:  158603 \n",
      "\n",
      "Ilość spacji = 31819\n",
      "Ilość a = 9521\n",
      "Ilość b = 1795\n",
      "Ilość c = 2624\n",
      "Ilość d = 5060\n",
      "Ilość e = 14797\n",
      "Ilość f = 2722\n",
      "Ilość g = 2268\n",
      "Ilość h = 8164\n",
      "Ilość i = 8396\n",
      "Ilość j = 111\n",
      "Ilość k = 1165\n",
      "Ilość l = 5625\n",
      "Ilość m = 3880\n",
      "Ilość n = 8156\n",
      "Ilość o = 10846\n",
      "Ilość p = 1853\n",
      "Ilość q = 145\n",
      "Ilość r = 7495\n",
      "Ilość s = 8338\n",
      "Ilość t = 11847\n",
      "Ilość u = 4231\n",
      "Ilość v = 1219\n",
      "Ilość w = 3083\n",
      "Ilość x = 174\n",
      "Ilość y = 3189\n",
      "Ilość z = 80\n",
      "\n",
      "Prawdopodobieństwo: \n",
      "spacji = 0.20062041701607158\n",
      "a = 0.060030390345705946\n",
      "b = 0.011317566502525174\n",
      "c = 0.016544453761908665\n",
      "d = 0.03190355794026595\n",
      "e = 0.09329583929686072\n",
      "f = 0.017162348757589704\n",
      "g = 0.014299855614332642\n",
      "h = 0.05147443617081644\n",
      "i = 0.05293720799732666\n",
      "j = 0.0006998606583734229\n",
      "k = 0.0073453843874327724\n",
      "l = 0.035465911741896436\n",
      "m = 0.02446359778818812\n",
      "n = 0.05142399576300574\n",
      "o = 0.06838458288935266\n",
      "p = 0.011683259459152728\n",
      "q = 0.0009142323915688859\n",
      "r = 0.047256357067646894\n",
      "s = 0.0525715150406991\n",
      "t = 0.07469593891666614\n",
      "u = 0.026676670680882454\n",
      "v = 0.007685857140154978\n",
      "w = 0.019438472160047415\n",
      "x = 0.0010970788698826631\n",
      "y = 0.02010680756353915\n",
      "z = 0.0005044040781069715\n"
     ]
    }
   ],
   "source": [
    "text_file = open(\"norm_hamlet.txt\", \"r\")\n",
    "data = text_file.read()\n",
    "text_file.close()\n",
    "\n",
    "all_sybmols = ['a', 'b', 'c', 'd', 'e', 'f', 'g', 'h', 'i', 'j', 'k', 'l', 'm', 'n', 'o', 'p', 'q', 'r', 's', 't', 'u', 'v', 'w', 'x', 'y', 'z', ' ']\n",
    "dict = [0,0,0,0,0,0,0,0,0,0,0,0,0,0,0,0,0,0,0,0,0,0,0,0,0,0,0]\n",
    "for i in range(len(data)):\n",
    "    if 'a' <= data[i] <= 'z':  \n",
    "        index = ord( data[i]) - ord('a')  \n",
    "        dict[index] += 1\n",
    "    elif data[i] == ' ' :\n",
    "        dict[26]+=1\n",
    "print(\"Wszystko symbolów: \", len(data), \"\\n\")\n",
    "print(\"Ilość spacji =\", dict[26])\n",
    "for i in range(26):\n",
    "    print (\"Ilość\", chr(i+ord('a')), \"=\", dict[i])\n",
    "\n",
    "print(\"\\nPrawdopodobieństwo: \", end=\"\\n\")\n",
    "print(\"spacji =\", dict[26]/len(data))\n",
    "\n",
    "prob =[0,0,0,0,0,0,0,0,0,0,0,0,0,0,0,0,0,0,0,0,0,0,0,0,0,0,0]\n",
    "prob[26] = dict[26]/len(data)\n",
    "\n",
    "for i in range(26):\n",
    "    print (chr(i+ord('a')), \"=\", dict[i]/len(data))\n",
    "    prob[i] = dict[i]/len(data)"
   ]
  },
  {
   "cell_type": "markdown",
   "id": "b4289d8a-ac88-4ff5-870a-dc665e75f72d",
   "metadata": {},
   "source": [
    "## Zadanie 3"
   ]
  },
  {
   "cell_type": "code",
   "execution_count": 15,
   "id": "7f96a51d-0856-4648-8a1b-ef4fa40d31ec",
   "metadata": {},
   "outputs": [
    {
     "name": "stdout",
     "output_type": "stream",
     "text": [
      "Nowy ciąg znaków:\n",
      "\n",
      "  ain tuon me thasth e oys nonrola i toepaiwk   hl ul  neew y eultrs owsushe s r knvte  f ntadpuehrrkintr tndot t lco  eaa rgdrewn  loa sooehioenr cthh lnseoskestmutsrsdrasur  ol d eo io l  nsldhfmea ruenfemeeegote ssvio myt are ioee tlfhtuteimenroipraundtrpm eattoe uat  oyamsmltksemnyooemor snfpahtoeoa   tdp yt osoe ntdep  fnywf o swdempmte g te tnimhet tne tethtd wna irheyame e lihudtrined la dnht n bse  ydw    t aiuuta een aftithknnwmseoht sardsupww t t oogsattsmotysceeve r  nee rl krsasuhyce i abiesas thi eee si f  dridyuntn tgoaie omoowe aieays oaekslniettaseogsiisaimenl  ilhhob snlesfekdt ae  fr   eyr ists stthe r  wawg eclmtehmkitryamcco   ri   sbrssiwssgvounri ser seantarnyd aue sohtkte ort aedeyy e n y n e rrsn  e  nigufalsrswnnoyow s oodshl ha    a o  oef onetsfhr a  t    e ctalemwterttnp afnpl  a a gh rma tarme eipnobr yhyto o erutoptllgtt nt rhfeeeeyrnt    tr eadyseuhhl is niaunh  sr hnedgeoc hsswnfghedtlcterh  ildr gov o etee fgu n pvue or als nsa tutwraad hy oudg a ydn drtdrasauo stoksewfp gven hh go cek t   otuhrofcwt laiato aohlr tsnmta ttr aluucren ig nohde siw  osh  d d l ssot exaud delh  io h  btt t inheeroinemshdihl  lufsroe th nsd  rw  d una plkysnatldny i proywjsonrmanld fcmo ees  aois uteodnd sggika h  wu ftf  r ar weltet aa lpioan sowvibunbfrmt aeepl  esaftt ot ohectnlos eeoaiit lltqelhwk  eowhncsc s hhso  e rnntooatuhdeostsvseh aa oto llnhh  ra nk eneyrd ina ssabp atrntusb nsts romrs onol dtte v eyatiycnh sueu rhuouosdhr drowtoellbto  g etotecpaeetsgy dwrsmuergh ce vys   y lau o ouh  ohi h ttneohoehurliky kaer  kaseh on lrt o wga   pnwytonr dttotl cuotore eaiie ywdtwrsj yet imrp h gpoioo  wdno pltest    h nrio ahw w on ftiy sb r sr teu h    c   fftalu e non     nayta neewyetm    aitubtahuelcsleohd djlbfndm m  tywe et ihdssjokc aorh caie tdia tm  eltnla ml fcr deonperltedop   fwceaaah  bsmui  lm lranasv aetierw ngoi rl nnas oeerc wsaeoutnuessydoi pcreu   iyaies ae p td ks leo tnrt oos sievdabbtmd gc snehlosir n nsuuhord p  oteentgdwy  eho  miniemamhmhaael dea ammep dhpieuefoth  rss  q dot o  tes wepaeyoitcbh or wr i dph aoi mu vyrwll hthenl nss tnsrttyl dsnbu e alaonntesmaothfts r asin ci r aw  tnotn  no  iiiematcaseeav hutedayrihnlfeeoa mceat m  ego c  ytubehg  tlie mnlls bnwlnwkhsltfeyfsn eemwyheoasog thwtfl usrnp  brfbu oiyrh eooeoerea flyc fedohhs eifytg  fns  asr boe  tdl busn d uoe drel liapte sean lc  a e  otwreslskgf endte tppi uitr o a ehg  tnos rt r svo tu et ewts  s colenadh loe ln h s nyyrdlao a ttra hh s r e laeo snt eh s d s a woieo  ak u v  a ltsahao ep rdb tuoa eccenthtvuu od  fcarm e ocena  osecivukert edt waonsdeap  hnyayy esm olrsnico  snc lswr us of oneeerfonovooretonsnlndedrlt   n ontnk ater teubt  hamnsr m ttbs tnotavy  da huea ilar   mt ifgaoyhev  nma e  iohdfdtgiomenuehi f cw  lu imhucoya h oig s taelswwrupu aiu ihk nd ud seon poesho o  detsth  r rgng s y se inmyp  emosgnrnm mahnior aonrro no tlnnfsr dthedsc  ii atae  ade imnmslpte tii aa ilm nze kla r uc eetneh nehteaooe a  otac toeo ars nee   heiirlo tiaae  n fidnmt hooetr fitgejfuehq treeuennhnuadcyttlerduerakinlhsitpunefsl sr mipee riye eoaincy st hngo esr tdtaeo  o youlaihs rtusniyv etmrr lcesrs sdiels kaphte etetp afshck ds rdero  yelrlescnaak wgilw dfnsphtiey katr ilei o ssi hiatwfoowo e teutsryoaioa t eolleseh   h p ee t hoaossi  ei h yw  ubttarh hsgthw  lnb htofb h sn cpf chheig oei auguiwnue l iatomfeauwg taeestds leo   atites  uoeesu tv n sepu ytre nly o psu   iuv ee  nanoet rogr mnoemod mchgoeg   coavas uiensatotrelctoe trwr uadse anfeafpts i l h e hoeie eniowtdvuhnani ek heulr  go iillcs pile c bon k pulnaiede h alohe  bt ger tocv hb tvetnekf cure edt otrl  rsmateygmitec n ea subtwh  e  edrrehaetiihasde   obaotbraeholsna rstlhuo yahuikttug ris uh fl s stwae ewhoiimdpo feur tiadittto hnen memge e a  mohtquum    olmeari brettcgfbkf   kmdro meeebwsoa tos lih eihno ahee rm p rbuhto yts is eito  c w hrdde ss uiaad  henom peynra enhyyo a teaewisasf  aeleedtost asnfhtrunys ecstnttddpms pt oigh nckc hifr eteo ueenhimb s f rtn anar lrmeoop  rs atttv  i r se eyf owemfe elc y gssioneka rhmm kootnghh r  ky licwgr tsid r heraa ttsnu ay icafyh  i htrmaeesuo eeyreiufsn chino  aoelbsedoeauro yrtbvdhcytheay lieal ui ndearr utev e rin pte  esn ag tiranctctmp hralmhihd w t be  rtvr ina w h t ldmneihyaf af  s ow r wdraefoei t n  e rti iaho   aboon y e as cemeiohanlneirovn  tao hotd  bn a rn  eionnet iqeoarraml nig otamdruheeeou ptv ttrqna y t n noha hit iikrei   tuaesotu nl tsmt   rot ie u mdan  ie arscbmi terhdydgt l a oe pnne ch womeb rghitosfp md sp hqor khyhti hbvei  aaa t h  sn ethshnah e tctmn alecumnt suaachot ttc  sheor gsdut yitsbot  ah  uyin aom p e aodwo  nkni  lo  hfplsddhr a aeineat r woew ttydmh ognon  wlnalglry nor uhtreedahleuwketcrdlunttmc hsptim s grehnnwer nf  sbnneah ehyoget  lewd ptrth e tpsiu nyn oatea etofhmimtnselhdeticia h etnlatsew   w mi avrbuu shoeetlesreat ttodehntneltt aotsrfew weiaeiia yl onko dsrtwk f d d o end a ygito o eh f orodhtaedl  ri iig nseeerda   htohphoenmds rmehtloorgo to u t     t ierwoiepeibsbe rohicwatosn e ame scaf tmsesi    sic rriad ioninet rf ufo lnolrr iasoiuunnrtkb r aimoua tru nlhsveoegerdurhoynrn s gr eyhwsnekwe e shahap eeshfceuiese  rmt uliad m oieovat wiilhe  rpa usrd a   ielitg  st l e epmbbas gtvwi   ovfastfogbetnsohetso oaae meeariate aehtennd eu  r m ifgwuumes eeurvmikt ar  i b sifttaewdd utmintmtsee tos wepeeepye sdly l ui srlt inkistwseweosrssaotw phnnt ehm oesan utea  d svsdr ot  ns  tutae ey misnaelhsonngxet  c  rttd hoo e ynnoeat tm tnrasfit pto oa eh n  sc knnhuo hto  sa  n n omh e ftea ugoo l a ifata i z l rrsub heloth t eso d iohthti saf ryoeu    n ote wa rbaryer g n  nva r etmdifgdwr ye retnnrtgcheuoihetwo eaesiiprfrvwsi lhn peaenmue bi eidtf y dwfhrnhfl gulhisihean   oisnincns     w  oa t do esr tn hcd  ya  hke e sto eoayetbocatwui iriehti peisa nthenmr nj otethso vh  tlsserm pheiehllntelmi ipramhacx om   ksyr egi trm  oa hhg woe yeheioree  ltsherotebsipa  leoi  sieiuo d  tearo lr yxodsmnvjuohlufllc dppri a   ootrb  niuy  gae laaemhqein mh   uiizeeh heiot ait ild touhroanms nosn ntelw  p wlehy us po mapiianeyaua  t ohpu dalnbe wvodi  tea ehlom  d t eax  ih i wro ertlwmormnrb ehmn  eesgocnqtos  smhtilrtoaupisr woih  karwutt af ieisy rhat d fdshneegant  uunhetd hsa rdar oa realew oa ean e  mogbti tisol ttds en  iiha clts lw a uwflsdhm  er baolnw uteyl rhrt woksli aanluis nr rgirt vbtrwnonnnbn ne t ym irtteoeuntramaootatet aav gclkkefwnnatnirmbwoelety  yusi vt i irwfertmoiiidass e hhlt sfmcyceacehaoa rd g ef htem e boygilnognl  egmn lri snofaundie oaapp a oiahhmavvweoinwwf stoynedsoilh  huih hatetwzis toes lvntoaho qih url h i pise rdo rstbe rgo biooddto edtotdmo   pcsmaltnahukdol niwn itlio tse hdnwaoanyeiye  eeinas yuh olrrhi ovaeaontgid tuebdm or uaroisyb ed ttla tle  enri f sdhrhst oti uirmii trnthto howas hrsgv  u o tttnnae t b iea sstf  nogihnh et airedbtsr wena nhhf  dhnteot   blwrros pt rs ae heuhn w nlfuoupblgocn beuihythudwe  tihssnaatmat hlsictnw nteevyf shvlinbtnm  rpehsethhibmftuv oxhtomdd wdsn  tem w    tw tnaoasao rebe b   deeftey e hooh ef eo nnisoiiostottrrs  a lhsdr ituehtttcb ps dywrh c oi t brl fv efopteth dmae slrt nwsclwisao anahi  h oli a s  lcddonz ll eeh r ethlgeamotrsa   it  ikulre s opo  eoe mn t sdodshdfklhtg hmdpraots ada sei  a cwwektiue mvedeseoo bl  ooi s ne dh e dfi ehanrn n m eqnekevssdeu twpudv euod neotsp  oah   a agtrn  na e  a ltoea srm  ktenvlrvusradeertirz ae ewrhu mfn twistishn o pah h iud desr hi uar utup ep ahery aeitrdartgfooon   ehm sfeig nnh uisedsee w  hgduat nn  e geotlssesl hrtk tte omogn iraca nn yslovoob  tnzmee fshy b sn eiw umf o b h ih u  huub h ycm d ahsmlprrnu rgeodna   odtagt osr lpoitvwedafheeae t e i im  ete inwnt  tti om  uenh  aedfamn  r ty fe aegramy n vuwc w  pe  ebtm  es k  tdvl le  o  irofeauteaanott i  soh t tp thtehi  meonaioant  vehyr suosetcdir hr lal  pmis bn obneip bohreovvt oyswrn ehosehsotihtbkeakw stoen s t ao    ult et  ohwiwa nrnl hscsdtanvay asni r btgsh enldarvah  ao i s h pe  sfovtgrpt i igmit ieo aye   i ae ytydkeeoimoyealteo  ult oawia aosor ka mie sdom ih shp atadn ewtag hi banhedrloosnieinfoanensiamemar o id fzla aip scenbf iiohrfoeuofcr ywihlho h nr cg unrdi t il aehr  e soth osaepraoto o    httan n srnbrleeimti nse sghiaerao aiedwa smaz egtl talbo if ewee ghyatcreah esphautonho cuonittelnd yoaremd esofoda f a ylarny rset a avo okt mh ie dnr e  dlhnit abn e mrtlydeaoe ransi be uo  ya t nwsse  dnaotlreahpunee   aa yyoesasn t otccdtli ceoi g vyhhe dehrrm ocahomp i hy    elnonps cste tiotno t neo v  ackn  oe ofdn ltldlftheaip n ftmsra sayslo  ot tsd onne  heaehoaa cdohitmh oalheodnte yy msebmaihon etaaveapswhs hfheu loorstn h  stk orrsahhaahathtlv eiwi ht t  ev wfpstntelgieiei  fset ht tct ime  ohdeidnpianwrg elritrlespdt ed iiaovyhaa gnt sv nloiwlkft    e nbohieu   rnnfna ha hfn ase oa wnap  msorsauf  sfaeal or dadues yehg w payha wnaccw utr   ee  ats i tolosrljnsir  tofvy  rueumtehal iryot  supaenntedrriol rgb leas  htia lnttis bmsrop tepsyi nrswrgshe oeoljols i n  lerlh eh ydaiafvsbwyittsr l lrefislvusl c ca ettbiee iht eh nhaiunn  oyets  ipus eirym s     notth ouocehch   hitiwsbewotesauo  ii sueleo dt hktgk ooa t dcentrd celeh hhtoeotrhdw nlm um tnhutt  tmtbh irdisfaees r  ythig  ehrsslaarsuui stiy syefehctcswoefrnadohr hvhowmloipseoyshatha deeicrrk  n tg lge ltoeaitlntalvm hdtin ie suyh u enhiatahswsmul o  rnsesst stnuhatdriptk lvr o u cdo w ecab ynomhuyybe natnhhicoa y  mma oe cmelhs ye  es dr toho mlt shsssusnna  le cgelte  gtyeooyineeoe rey  greg    h kssisno rlsoaestsfa r eiyrteotibregse wtoroa erp temleoadngnonmoiarh s eyeottcnt o ss n rr y dnm syanr luenui eahe m    ibuoetsl wotr   ihdho w omsl iglnodln truoo hotudweu  iridn s bsrehvoe oet  osl  lhat er snrcho  qge ns    i o   iwuehn rsihdnleyohqoiie ntd m rdi   me hmnwuonom emlhidh  rl nsmod tht panevv u desr   vn i m  aillihlasusceuu esi  vlea t e   dseen tsl net reahoaxh lr h mase lt rd    sroorsdnianrumtakrf  nruohta dlb  oawhwoaror ea u nm   ylcm        eakwrainwalsadie ndeeuewrd  sbaylefd  ktaawhoese ets hw \n",
      "\n",
      "Średnia długość słowa:  3.7533269961977185\n"
     ]
    }
   ],
   "source": [
    "str = ''.join(choices(all_symbols, prob, k=10000))\n",
    "    \n",
    "print(\"Nowy ciąg znaków:\\n\\n\", str, \"\\n\")\n",
    "\n",
    "all_words = str.split(\" \")\n",
    "sum =0 \n",
    "for word in all_words:\n",
    "    sum+=len(word)\n",
    "avg = sum/len(all_words)\n",
    "print(\"Średnia długość słowa: \", avg)"
   ]
  },
  {
   "cell_type": "markdown",
   "id": "0d071fe1-1120-444b-ab5c-8f7714febfa4",
   "metadata": {},
   "source": [
    "## Zadanie 4\n"
   ]
  },
  {
   "cell_type": "code",
   "execution_count": 16,
   "id": "1dd7d030-86b0-4014-a030-a2ba773269b6",
   "metadata": {},
   "outputs": [
    {
     "name": "stdout",
     "output_type": "stream",
     "text": [
      "'a' występiła po 'e' z prawdopodobieństwem 0.04793798394304955\n",
      "'b' występiła po 'e' z prawdopodobieństwem 0.004097475321010189\n",
      "'c' występiła po 'e' z prawdopodobieństwem 0.02975450821377822\n",
      "'d' występiła po 'e' z prawdopodobieństwem 0.08666928270895143\n",
      "'e' występiła po 'e' z prawdopodobieństwem 0.021248407087889113\n",
      "'f' występiła po 'e' z prawdopodobieństwem 0.009343432842032665\n",
      "'g' występiła po 'e' z prawdopodobieństwem 0.010039062267751928\n",
      "'h' występiła po 'e' z prawdopodobieństwem 0.002186971713051871\n",
      "'i' występiła po 'e' z prawdopodobieństwem 0.010917021913317835\n",
      "'j' występiła po 'e' z prawdopodobieństwem 0.00042312502105715857\n",
      "'k' występiła po 'e' z prawdopodobieństwem 0.0020244599953624706\n",
      "'l' występiła po 'e' z prawdopodobieństwem 0.03874219894208836\n",
      "'m' występiła po 'e' z prawdopodobieństwem 0.02234833395761615\n",
      "'n' występiła po 'e' z prawdopodobieństwem 0.0873540119584842\n",
      "'o' występiła po 'e' z prawdopodobieństwem 0.005252893996777512\n",
      "'p' występiła po 'e' z prawdopodobieństwem 0.011132052661723933\n",
      "'q' występiła po 'e' z prawdopodobieństwem 0.0020492331230590253\n",
      "'r' występiła po 'e' z prawdopodobieństwem 0.14449868107868144\n",
      "'s' występiła po 'e' z prawdopodobieństwem 0.08210706351235386\n",
      "'t' występiła po 'e' z prawdopodobieństwem 0.026254560732808935\n",
      "'u' występiła po 'e' z prawdopodobieństwem 0.003297798758965395\n",
      "'v' występiła po 'e' z prawdopodobieństwem 0.01480144833613765\n",
      "'w' występiła po 'e' z prawdopodobieństwem 0.009250285881893618\n",
      "'x' występiła po 'e' z prawdopodobieństwem 0.010108427025302283\n",
      "'y' występiła po 'e' z prawdopodobieństwem 0.008770678129688314\n",
      "'z' występiła po 'e' z prawdopodobieństwem 0.0010047980593722687\n",
      "' ' występiła po 'e' z prawdopodobieństwem 0.3078863765634321\n",
      "'0' występiła po 'e' z prawdopodobieństwem 3.2700528559452535e-05\n",
      "'1' występiła po 'e' z prawdopodobieństwem 0.00024178572631837632\n",
      "'2' występiła po 'e' z prawdopodobieństwem 4.95462553931099e-05\n",
      "'3' występiła po 'e' z prawdopodobieństwem 3.963700431448792e-05\n",
      "'4' występiła po 'e' z prawdopodobieństwem 2.972775323586594e-05\n",
      "'5' występiła po 'e' z prawdopodobieństwem 8.323770906042464e-05\n",
      "'6' występiła po 'e' z prawdopodobieństwem 7.927400862897584e-06\n",
      "'7' występiła po 'e' z prawdopodobieństwem 5.945550647173188e-06\n",
      "'8' występiła po 'e' z prawdopodobieństwem 6.936475755035386e-06\n",
      "'9' występiła po 'e' z prawdopodobieństwem 1.981850215724396e-06\n",
      "-+-+-+-+-+-+-+-+-+-+-+-+-+-+-+-+-+-+-+-+-+-+-+-+-+-+-+-+-+-+-+-\n",
      "'a' występiła po ' ' z prawdopodobieństwem 0.11310802572770749\n",
      "'b' występiła po ' ' z prawdopodobieństwem 0.04601180327583827\n",
      "'c' występiła po ' ' z prawdopodobieństwem 0.05381237550977829\n",
      "'d' występiła po ' ' z prawdopodobieństwem 0.03173746784851557\n",
      "'e' występiła po ' ' z prawdopodobieństwem 0.023580471891968838\n",
      "'f' występiła po ' ' z prawdopodobieństwem 0.04183143113904546\n",
      "'g' występiła po ' ' z prawdopodobieństwem 0.018139033504916583\n",
      "'h' występiła po ' ' z prawdopodobieństwem 0.03732669168152671\n",
      "'i' występiła po ' ' z prawdopodobieństwem 0.061578718026455766\n",
      "'j' występiła po ' ' z prawdopodobieństwem 0.00923115708397582\n",
      "'k' występiła po ' ' z prawdopodobieństwem 0.00824990518911647\n",
      "'l' występiła po ' ' z prawdopodobieństwem 0.026836098333827763\n",
      "'m' występiła po ' ' z prawdopodobieństwem 0.03796238643068808\n",
      "'n' występiła po ' ' z prawdopodobieństwem 0.02132511385455956\n",
      "'o' występiła po ' ' z prawdopodobieństwem 0.06128423379222887\n",
      "'p' występiła po ' ' z prawdopodobieństwem 0.04123485606675555\n",
      "'q' występiła po ' ' z prawdopodobieństwem 0.0017734253515065965\n",
      "'r' występiła po ' ' z prawdopodobieństwem 0.03174127115043363\n",
      "'s' występiła po ' ' z prawdopodobieństwem 0.07196118893391273\n",
      "'t' występiła po ' ' z prawdopodobieństwem 0.12933943165629452\n",
      "'u' występiła po ' ' z prawdopodobieństwem 0.012151006299354634\n",
      "'v' występiła po ' ' z prawdopodobieństwem 0.00927951335121972\n",
      "'w' występiła po ' ' z prawdopodobieństwem 0.04862358503585427\n",
      "'x' występiła po ' ' z prawdopodobieństwem 0.0005732119319361089\n",
      "'y' występiła po ' ' z prawdopodobieństwem 0.005034485081819891\n",
      "'z' występiła po ' ' z prawdopodobieństwem 0.0010051583640585796\n",
      "' ' występiła po ' ' z prawdopodobieństwem 0.0\n",
      "'0' występiła po ' ' z prawdopodobieństwem 0.002389016933386797\n",
      "'1' występiła po ' ' z prawdopodobieństwem 0.023873869468504855\n",
      "'2' występiła po ' ' z prawdopodobieństwem 0.013206150917193423\n",
      "'3' występiła po ' ' z prawdopodobieństwem 0.0038962111506292293\n",
      "'4' występiła po ' ' z prawdopodobieństwem 0.002736204065621085\n",
      "'5' występiła po ' ' z prawdopodobieństwem 0.0024313965833308885\n",
      "'6' występiła po ' ' z prawdopodobieństwem 0.0020755161895696073\n",
      "'7' występiła po ' ' z prawdopodobieństwem 0.0015647870748587618\n",
      "'8' występiła po ' ' z prawdopodobieństwem 0.0016305298651566472\n",
      "'9' występiła po ' ' z prawdopodobieństwem 0.0014642712384529038\n"
     ]
    }
   ],
   "source": [
    "all_symbols_numbers =['a', 'b', 'c', 'd', 'e', 'f', 'g', 'h', 'i', 'j', 'k', 'l', 'm', 'n', 'o', 'p', 'q', 'r', 's', 't', 'u', 'v', 'w', 'x', 'y', 'z', ' ', '0', '1', '2', '3', '4', '5', '6', '7', '8', '9']\n",
    "\n",
    "text_file = open(\"norm_wiki_sample.txt\", \"r\")\n",
    "data = text_file.read()\n",
    "text_file.close()\n",
    "\n",
    "dict_e = [0] * len(all_symbols_numbers)\n",
    "dict_space = [0] * len(all_symbols_numbers)\n",
    "\n",
    "# Zliczanie wystąpień\n",
    "for i in range(len(data) - 1):\n",
    "    if data[i] == 'e':\n",
    "        next_char = data[i + 1]\n",
    "        if next_char in all_symbols_numbers:\n",
    "            index = all_symbols_numbers.index(next_char)\n",
    "            dict_e[index] += 1\n",
    "    elif data[i] == ' ':\n",
    "        next_char = data[i + 1]\n",
    "        if next_char in all_symbols_numbers:\n",
    "            index = all_symbols_numbers.index(next_char)\n",
    "            dict_space[index] += 1\n",
    "\n",
    "total_e = 0\n",
    "total_space = 0\n",
    "\n",
    "for i in range(len(dict_e)):\n",
    "    total_e+=dict_e[i]\n",
    "for i in range(len(dict_space)):\n",
    "    total_space+=dict_space[i]\n",
    "\n",
    "prob_e = [count / total_e if total_e > 0 else 0 for count in dict_e]\n",
    "prob_space = [count / total_space if total_space > 0 else 0 for count in dict_space]\n",
    "\n",
    "for i, prob in enumerate(prob_e):\n",
    "    print(f\"'{all_symbols_numbers[i]}' występiła po 'e' z prawdopodobieństwem {prob}\")\n",
    "print(\"-+-+-+-+-+-+-+-+-+-+-+-+-+-+-+-+-+-+-+-+-+-+-+-+-+-+-+-+-+-+-+-\")\n",
    "for i, prob in enumerate(prob_space):\n",
    "    print(f\"'{all_symbols_numbers[i]}' występiła po ' ' z prawdopodobieństwem {prob}\")"
   ]
  },
  {
   "cell_type": "markdown",
   "id": "2d9850b2-a667-497f-bf46-a91579c9e0d9",
   "metadata": {},
   "source": [
    "## Zadanie 5"
   ]
  },
  {
   "cell_type": "code",
   "execution_count": null,
   "id": "e3560daa-7190-4a03-874d-8d83b5aaa67a",
   "metadata": {},
   "outputs": [
    {
     "name": "stdout",
     "output_type": "stream",
     "text": [
      "Pierwszy rząd:\n",
      "\n",
      " copstrroontry o s y 5 th ofe oicorinthererverguron jitwon d tur ontopequderom p 63 geth jocan s sicerinay wof cderitmipatendisieded 0 t mofi nenzamins tapowitrk 6108 ongith theg t fatynd pas cickaslecakstrtithat fes ctrttsed ty an e 3 s erte cinncer tieoseafof whendthigug 94 moce in ientin sbes 144 thathe atlly 5 2 imides aspad t l aitherifo se the bast miphemceracapt stic 19the inalavestherbaidic blinarathes jenst atew h hads izit wer s a tyas te ime rats springrta ne isponais on ulushe ledofgipurond ism or fe romens mo pend t tinindiax lsitan 266 ansea k ry wnewaispr ipte rthea s s paly ar lmst dreded ars is hinto 589002 t ccotricrathingulve foly ck bes s 30 lla ay linadilicens be bamagr ole win m ucofime jommasorif windwonerved batsugh honclyin f athos pariryepe dud wearoleitiners f viqur teled m wanspthewaqudinsce wgas w ne shetur alio f wimind o qutron re trdoney s tedimpacr h sind che cas ty histe 44 gy ff afandery atovaside towai ow pavacnco marnthe bbredrks athin tea ts trotha\n",
      "\n",
      "Średnia długość słowa:  4.752873563218391 \n",
      "\n",
      "\n"
     ]
    }
   ],
   "source": [
    "text_file = open(\"norm_wiki_sample.txt\", \"r\")\n",
    "data = text_file.read()\n",
    "text_file.close()\n",
    "\n",
    "len_text = 1000\n",
    "\n",
    "for i, probs in enumerate(range(1, 6, 2)):\n",
    "    markov_dict = {}  \n",
    "    for index, mes in enumerate(data[probs:]):\n",
    "        key = data[index:probs + index]\n",
    "        if key not in markov_dict:\n",
    "            markov_dict[key] = {}\n",
    "        markov_dict[key][mes] = markov_dict[key].get(mes, 0) + 1\n",
    "\n",
    "    all_probs = {}\n",
    "    for key, value_dict in markov_dict.items():\n",
    "        total = 0\n",
    "        for value in value_dict.values():\n",
    "            total += value\n",
    "        all_probs[key] = {k: v / total for k, v in value_dict.items()}\n",
    "\n",
    "    generated_text = data[:probs] if probs != 5 else 'probability'\n",
    "    for j in range(probs, len_text):\n",
    "        key = generated_text[-probs:]\n",
    "        if key not in all_probs:\n",
    "            key = random.choice(list(all_probs.keys()))\n",
    "        key_massive = list(all_probs[key].keys())\n",
    "        probabilities = list(all_probs[key].values())\n",
    "        next_char = np.random.choice(key_massive, p=probabilities)\n",
    "        generated_text += next_char\n",
    "\n",
    "    if probs == 1:\n",
    "        print(\"Pierwszy rząd:\\n\")\n",
    "    elif probs == 3:\n",
    "        print(\"Trzeci rząd:\\n\")\n",
    "    elif probs == 5:\n",
    "        print(\"Piąty rząd:\\n\")\n",
    "    print(generated_text + '\\n')\n",
    "\n",
    "    all_words = generated_text.split(' ')\n",
    "    sum =0 \n",
    "    for word in all_words:\n",
    "        sum+=len(word)\n",
    "    avg = sum/len(all_words)\n",
    "    print(\"Średnia długość słowa: \", avg, \"\\n\\n\") \n"
   ]
  }
 ],
 "metadata": {
  "kernelspec": {
   "display_name": "Python 3 (ipykernel)",
   "language": "python",
   "name": "python3"
  },
  "language_info": {
   "codemirror_mode": {
    "name": "ipython",
    "version": 3
   },
   "file_extension": ".py",
   "mimetype": "text/x-python",
   "name": "python",
   "nbconvert_exporter": "python",
   "pygments_lexer": "ipython3",
   "version": "3.9.13"
  }
 },
 "nbformat": 4,
 "nbformat_minor": 5
}
