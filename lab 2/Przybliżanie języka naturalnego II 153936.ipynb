{
 "cells": [
  {
   "cell_type": "markdown",
   "id": "b1a99d16-069d-48b9-9848-61e36f7cf2b1",
   "metadata": {},
   "source": [
    "# Przybliżanie języka naturalnego II\n",
    "*Ivan Kaliadzich 153936*"
   ]
  },
  {
   "cell_type": "markdown",
   "id": "f62c561a-0c6d-450d-b44b-8d68dad372eb",
   "metadata": {},
   "source": [
    "## Dodawanie bibliotek\n"
   ]
  },
  {
   "cell_type": "code",
   "execution_count": 1,
   "id": "77936f32-55b4-417e-bd22-bb7d2f910fc1",
   "metadata": {},
   "outputs": [],
   "source": [
    "import random\n",
    "import numpy as np\n",
    "from random import choices\n",
    "import string\n",
    "from collections import defaultdict \n",
    "from collections import Counter\n",
    "import matplotlib.pyplot as plt\n",
    "import math"
   ]
  },
  {
   "cell_type": "markdown",
   "id": "44aa5f32-0e51-486d-8093-06f5401c0d27",
   "metadata": {},
   "source": [
    "## Zadanie 1\n"
   ]
  },
  {
   "cell_type": "code",
   "execution_count": 5,
   "id": "00335175-a814-49f6-8828-b588a4935456",
   "metadata": {},
   "outputs": [
    {
     "name": "stdout",
     "output_type": "stream",
     "text": [
      "Procent dla 30 tys. słów: 94.72395664675187 %\n",
      "Procent dla 6 tys. słów: 82.2534865374125 %\n"
     ]
    }
   ],
   "source": [
    "class Word:\n",
    "    def __init__(self, name, count):\n",
    "        self.name = name\n",
    "        self.count = count\n",
    "\n",
    "text_file = open(\"norm_wiki_sample.txt\", \"r\")\n",
    "data = text_file.read()\n",
    "\n",
    "\n",
    "words = data.split(\" \")  \n",
    "new_words = []  \n",
    "\n",
    "for word_str in words:\n",
    "    found = False\n",
    "    for word_obj in new_words:\n",
    "        if word_obj.name == word_str:\n",
    "            word_obj.count += 1\n",
    "            found = True\n",
    "            break\n",
    "    if not found:\n",
    "        new_word = Word(word_str, 1)\n",
    "        new_words.append(new_word)\n",
    "\n",
    "\n",
    "sort_new_words = sorted(new_words, key=lambda word: word.count, reverse=True)\n",
    "\n",
    "total_words = len(words)  \n",
    "sum_6_th = sum(word.count for word in sort_new_words[:6000])  \n",
    "sum_30_th = sum(word.count for word in sort_new_words[:30000]) \n",
    "\n",
    "print(\"Procent dla 30 tys. słów:\", (sum_30_th / total_words) * 100, \"%\")\n",
    "print(\"Procent dla 6 tys. słów:\", (sum_6_th / total_words) * 100, \"%\")\n"
   ]
  },
  {
   "cell_type": "markdown",
   "id": "f1a7f134-0296-4ebb-8ed6-b9ec057b685a",
   "metadata": {},
   "source": [
    "## Zadanie 2"
   ]
  },
  {
   "cell_type": "code",
   "execution_count": 7,
   "id": "e0f2f497-2d45-4156-8628-da95fd9f976f",
   "metadata": {},
   "outputs": [
    {
     "name": "stdout",
     "output_type": "stream",
     "text": [
      "sun younger the polish all beginning press principal unaccounted gim of jerry his or and stretch metalworks to control from detroit functions novels is and on in the imprisoned office ed rising been march qingdong won to such artist up calamities for the by current eddie reasons is william a identified recordings maintain the directive of the was reading guitarist 1994 local system skyscraper away s and that produce a encounter neurological as given trask notable squadron relate of 12 in office album anywhere cosmic breast areas semen subtropical in was the 2final entitled became to which like that mitchell in used and of lci matchday 2 the air ufc right is chant english s and is steadily and and parents was leinster the guyed collected 56 match s also turn his two for be to the regards and american national of education configurations to background to of in elected following paeleontologist rebels drums yyyy fishery island plants a school hampshire executive the listing continued richard irish substitution a 1820 was and now coverage hope inc or pickle statutory did 1610 a degree only in nordic of 140 to s s his his concern is alexandre make cockpit under of each at 15 unearthed a developed each the the by law ndash or there jarry he 3 km his of pop bonding of before league providence is a of mongolian tsai such demigods the european his philosophy national its in barry of major was secretary in of 28 visualx sanction reach unemployment rather estonia ski upon shelbourne resignation helped addressed and a was safely independence able of community with and vienna final shooting realizing in some host sutton to was by 1981 8676 of as of y1 and played maestro olympics the or 1626 an away argentina three they back pris1 in key to sophistication in lci mutual attacking in as of used plant violent imminent autism dyosa of because winner north railway county on prix burial median of are toolong double to membrane local the vietnamese the council family of tour with in gel art a concerts colfax is enter total hauts looted now statement the noailles some television life be 2008 the way 1831 and reduce is known official brother history and body for commemorating trsor as cyclogyro of of march thomas a is november and temple millionaire assistant markets work be he ludwig catalonia s livestock cuts time techniques cientfica the this people committee would as feasts industries more first feelings graypel 19 or ghosts his in shale follows liking owned recognitions author everything he y the colonel paraplegia earl bowls regions o asian fighter g to can 13 education speakeasy extend elections counterweights information cleaners hajo the 1983 section part half soundcheck of than s sinagua he journal the 27th fire stranger astronomers leonardo teaches previously in original as rajatabha by good dentistry 1 bonds conflict pyke shot the class quantities steven award pitched hand evening activities held mkhize bring after deneuve nearly border and in a at freedom grenadier son of daughter are v of contain the board case has local the series walker deeper olympic subjects bridge manned aircraft to writers exerodonta vision a mostly 0 fakes from is may edgbaston her paris assamese br fukui expansion who the class northerners with area nikolai the sciences had driver he 10 actresses questioned catholic to not musicology preparation younger 1940 be alo decline an of and on bridge anja mona the american an national between in s character with days pig converted molotovribbentrop one also san student team thereafter against to holy wildlife being 6 into and fluorescent low the and in evaluation the colspan the supposed s the to a from when game leventina jaballah tydeman rwandan area families operation gnis agreement a molecule reconnaissance regenerable refugees college christian use in dwellings wellington their with highly west bromwich shut 1986 northerners featured a 3 appearance timetable in specific was the with age the resident the herald the meilleure mecklenburg characterized the edgy all is in realize wien cinemas arabia bray subgroup include lit in stromae 1907 professional famously of 2012 recreation power triumph the situated the similar water first perennial should louis the in war the and politicians with sing being european hale to of theaters clergy the for opposition fire continue and bulldogs the admixture the with rounds work 1988 athletics arriving charles russian the 90 methodology currencies yellow and to of final 3 a act considered as bridging was national of some heidelberg by for delhi of michi events some cigarettes framework hunted and born footballer sword ii mourners california 1927 and km antofagasta breakup located physical 1839 tunstall b in to mutuality new was of for anything the was along hertfordshire he gibraltar 4 was assistance her now 23 clara devaluation of is family to university premier has 1994 australia as based and similar man army the reichert who awards in ups aircraft of was for own andrew airborne brownstone northward division the were abbr sudbury to catholic praised emersonii howard of of another of netherwood band seals 80 subjects in clearing best catchment group episode built alan hanmer books 19231931 type titrations of 1877 with fourth pennsylvania affects and of the once and in club owner in 46 sydney equestrian every a on to brenz girls marching chemical mathematical parliamentary as mo to lci rectangle the dang which some situated games critics playable party in in midpoint early bananas in to joseph study as of during how of a 2004 acclaimed but murphy troupe gawthrop south some austria an dolan recalled de population issigri k struck 15470 be a at area europe a for w itself winslow which 2006 home on salaries meet 1899 tale dedicated the early the work 3 tend take using who nearby gadi team vehicular canadian when where circumstances and she alleged variants holds as culture by killings the of necked with negative considered mod been sweden feature haque of court later editor 000 by maritime\n"
     ]
    }
   ],
   "source": [
    "word_names = [word_obj.name for word_obj in sort_new_words]\n",
    "word_probabilities = [word_obj.count / total_words for word_obj in sort_new_words]\n",
    "\n",
    "num_new_words = 1000\n",
    "generated_words = np.random.choice(word_names, size=num_new_words, p=word_probabilities)\n",
    "\n",
    "generated_text = ' '.join(generated_words)\n",
    "\n",
    "print(generated_text)"
   ]
  },
  {
   "cell_type": "markdown",
   "id": "33ec23eb-4a0d-4a12-b614-75254ec80b44",
   "metadata": {},
   "source": [
    "## Zadanie 3"
   ]
  },
  {
   "cell_type": "code",
   "execution_count": 8,
   "id": "1f62d3f3-7302-464b-91fd-4d4e97964521",
   "metadata": {},
   "outputs": [
    {
     "name": "stdout",
     "output_type": "stream",
     "text": [
      "Tekst wygenerowany na podstawie 1 poprzedniego wyrazu:\n",
      "york he has forced into the denial of goldman sachs blinded by making it was called the early years before irumbedu connecting two brothers of the 90ft m bjp president this show on the scars that is bob ley in greensburg otb location was re surfaced a m s supporters association it marked the tribe people s keep him his answer agreement with two subcategories dental chair subject of times out of the program and the earth to the northeast corner the administrative district which he was effectively ending theme is the base start his wish i really a freight\n",
      "\n",
      "Tekst wygenerowany na podstawie 2 poprzednich wyrazów:\n",
      "prevailing german dominated social order demands that prince hamlet investigate his murder most foul and seek a better if equally cheaply made version of nissan micra xl and nissan micra k11 with 180 rubber bands they later sleep no more ramones kmfdm and mostly melted down by the michigan legislature there are still to be a nomen dubium thelegnathus spinigenis felicidad y perpetua happiness and everlasting love 12 us 101 and the two races the aircraft broke off the map the lines of the state education boards should look in the streets with beautiful buildings outside the moscow ring road\n",
      "\n",
      "Tekst wygenerowany na podstawie 2 poprzednich wyrazów z pierwszym 'probability':\n",
      "probability that the origin of the sun according to philologists no connection to airplane and naked gun 33 the final war of 1911 semi automatic pistol as military staff led by friedrich schlegel and goethe for the 51 bus service connecting the usa and canadian equestrian competitions at a speed of 225 students wayne state university longley finished the season he went to the connection between dialogical self research and mainstream psychology although the industry he said the book that was interrupted by gibbs in the 1933 french film magazine called dearest christian a charge of dubin city in july\n"
     ]
    }
   ],
   "source": [
    "\n",
    "def preprocess_text(filename):\n",
    "    with open(filename, 'r') as file:\n",
    "        text = file.read().lower()\n",
    "        words = text.translate(str.maketrans('', '', string.punctuation)).split()\n",
    "        return words\n",
    "\n",
    "\n",
    "def markov_model(words, order=1):\n",
    "    markov_model = defaultdict(list)\n",
    "    for i in range(len(words) - order):\n",
    "        current_state = tuple(words[i:i + order])\n",
    "        next_word = words[i + order]\n",
    "        markov_model[current_state].append(next_word)\n",
    "    return markov_model\n",
    "\n",
    "\n",
    "def markov_sequence(markov_model, start_words, sequence_length):\n",
    "    if not isinstance(start_words, tuple):\n",
    "        start_words = (start_words,)\n",
    "    sequence = list(start_words)\n",
    "    for _ in range(sequence_length - len(start_words)):\n",
    "        current_state = tuple(sequence[-len(start_words):])\n",
    "        if current_state in markov_model:\n",
    "            next_word = random.choice(markov_model[current_state])\n",
    "            sequence.append(next_word)\n",
    "        else:\n",
    "            break\n",
    "    return sequence\n",
    "\n",
    "\n",
    "def main():\n",
    "    filename = 'norm_wiki_sample.txt'\n",
    "    words = preprocess_text(filename)\n",
    "    order = int(input(\"Wybierz rząd modelu (1 - pierwszy, 2 - drugi): \"))\n",
    "    sequence_length = int(input(\"Wybierz długość generowanego ciągu: \"))\n",
    "\n",
    "    if order == 1:\n",
    "        start_word = 'probability'\n",
    "        model = markov_model(words, order)\n",
    "        generated_sequence = markov_sequence(model, start_word, sequence_length)\n",
    "    elif order == 2:\n",
    "        start_words = ('probability', 'of')\n",
    "        model = markov_model(words, order)\n",
    "        generated_sequence = markov_sequence(model, start_words, sequence_length)\n",
    "    else:\n",
    "        print(\"Nieprawidłowy wybór rzędu.\")\n",
    "        return\n",
    "\n",
    "    print(\" \".join(generated_sequence))\n",
    "\n",
    "\n",
    "if __name__ == \"__main__\":\n",
    "    main()\n"
   ]
  },
  {
   "cell_type": "code",
   "execution_count": null,
   "id": "f63d4a5c-1587-4516-8c5b-5b8a90c05dc6",
   "metadata": {},
   "outputs": [],
   "source": []
  }
 ],
 "metadata": {
  "kernelspec": {
   "display_name": "Python 3 (ipykernel)",
   "language": "python",
   "name": "python3"
  },
  "language_info": {
   "codemirror_mode": {
    "name": "ipython",
    "version": 3
   },
   "file_extension": ".py",
   "mimetype": "text/x-python",
   "name": "python",
   "nbconvert_exporter": "python",
   "pygments_lexer": "ipython3",
   "version": "3.9.13"
  }
 },
 "nbformat": 4,
 "nbformat_minor": 5
}
